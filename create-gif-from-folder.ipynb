{
 "cells": [
  {
   "cell_type": "code",
   "execution_count": 1,
   "metadata": {},
   "outputs": [],
   "source": [
    "from PIL import Image\n",
    "import numpy as np\n",
    "import pathlib"
   ]
  },
  {
   "cell_type": "code",
   "execution_count": 2,
   "metadata": {},
   "outputs": [
    {
     "name": "stdout",
     "output_type": "stream",
     "text": [
      "(29, 1024, 1024, 3)\n"
     ]
    }
   ],
   "source": [
    "imgs_list = list(pathlib.Path('./imgs_results').glob('*.jpg'))\n",
    "imgs_list = [np.array(Image.open(str(i)), dtype=np.float) for i in imgs_list]\n",
    "imgs_list = np.array(imgs_list, dtype=np.float)\n",
    "print (imgs_list.shape)"
   ]
  },
  {
   "cell_type": "code",
   "execution_count": 3,
   "metadata": {},
   "outputs": [],
   "source": [
    "def interpolar_imagens(v1, v2, n_iter=10):\n",
    "    diff = np.subtract(v2, v1)/(n_iter-1)\n",
    "    vetor = []\n",
    "    for n in range(n_iter):\n",
    "        vetor.append(v1+n*diff)\n",
    "    \n",
    "    return np.array(vetor, dtype=np.uint8)"
   ]
  },
  {
   "cell_type": "code",
   "execution_count": 4,
   "metadata": {},
   "outputs": [],
   "source": [
    "v = interpolar_imagens(imgs_list[0], imgs_list[1], 10)\n",
    "v = [Image.fromarray(k) for k in v]\n",
    "v[0].save('teste.gif', save_all=True, append_images=v[1:], optimize=False, duration=100, loop=0)"
   ]
  },
  {
   "cell_type": "code",
   "execution_count": 5,
   "metadata": {},
   "outputs": [
    {
     "name": "stdout",
     "output_type": "stream",
     "text": [
      "0, 1, 2, 3, 4, 5, 6, 7, 8, 9, 10, 11, 12, 13, 14, 15, 16, 17, 18, 19, 20, 21, 22, 23, 24, 25, 26, 27, feito. Agora fazendo o np.vstack\n",
      "criando o gif...\n",
      "feito!\n"
     ]
    }
   ],
   "source": [
    "resultado = []\n",
    "for k, _ in enumerate(imgs_list[:-1]):\n",
    "    print (k, end=', ')\n",
    "    vetor = interpolar_imagens(imgs_list[k], imgs_list[k+1], 7)\n",
    "    resultado.append(vetor)\n",
    "\n",
    "resultado.append(interpolar_imagens(imgs_list[-1], imgs_list[0], 7)) # exceção, fazendo o link do último com o primeiro\n",
    "print ('feito. Agora fazendo o np.vstack')\n",
    "\n",
    "resultado = np.array(np.vstack(resultado))\n",
    "print ('criando o gif...')\n",
    "resultado = [Image.fromarray(k) for k in resultado]\n",
    "resultado[0].save('epochs_result_interpolation.gif', save_all=True, append_images=resultado[1:], optimize=False, duration=120, loop=0)\n",
    "print ('feito!')"
   ]
  }
 ],
 "metadata": {
  "interpreter": {
   "hash": "aa39838d5afd7d94b7544cb5e5351cace91d1e0eb74b6451fdb6f11f3a068bed"
  },
  "kernelspec": {
   "display_name": "Python 3.9.5 64-bit",
   "language": "python",
   "name": "python3"
  },
  "language_info": {
   "codemirror_mode": {
    "name": "ipython",
    "version": 3
   },
   "file_extension": ".py",
   "mimetype": "text/x-python",
   "name": "python",
   "nbconvert_exporter": "python",
   "pygments_lexer": "ipython3",
   "version": "3.9.5"
  },
  "orig_nbformat": 4
 },
 "nbformat": 4,
 "nbformat_minor": 2
}
