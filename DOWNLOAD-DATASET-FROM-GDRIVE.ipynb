{
 "cells": [
  {
   "cell_type": "markdown",
   "id": "acb6a495-85cf-42f3-bcc5-18787de79ff5",
   "metadata": {},
   "source": [
    "- DOWNLOAD CELEBA DATASET FROM GOOGLE DRIVE"
   ]
  },
  {
   "cell_type": "code",
   "execution_count": 6,
   "id": "e0c381ae-4724-4ad5-986d-b1233502363e",
   "metadata": {
    "tags": []
   },
   "outputs": [],
   "source": [
    "import gdown\n",
    "import zipfile"
   ]
  },
  {
   "cell_type": "code",
   "execution_count": 2,
   "id": "0a9ee834-dd19-42d1-97a3-91809e3c1cbf",
   "metadata": {},
   "outputs": [
    {
     "name": "stderr",
     "output_type": "stream",
     "text": [
      "Downloading...\n",
      "From: https://drive.google.com/uc?id=1cNIac61PSA_LqDFYFUeyaQYekYPc75NH\n",
      "To: /home/studio-lab-user/CELEBA-DCGAN/imgs/img_align_celeba.zip\n",
      "100%|██████████| 1.44G/1.44G [00:16<00:00, 85.4MB/s]\n"
     ]
    },
    {
     "data": {
      "text/plain": [
       "'./imgs/img_align_celeba.zip'"
      ]
     },
     "execution_count": 2,
     "metadata": {},
     "output_type": "execute_result"
    }
   ],
   "source": [
    "url = 'https://drive.google.com/uc?id=1cNIac61PSA_LqDFYFUeyaQYekYPc75NH'\n",
    "# Path to download the dataset to\n",
    "download_path = './imgs/img_align_celeba.zip'\n",
    "\n",
    "# Download the dataset from google drive\n",
    "gdown.download(url, download_path, quiet=False)"
   ]
  },
  {
   "cell_type": "code",
   "execution_count": null,
   "id": "95c96dd4-2daf-4b59-a5a1-3a7fe6928804",
   "metadata": {},
   "outputs": [],
   "source": [
    "# Unzip the downloaded file \n",
    "with zipfile.ZipFile(download_path, 'r') as ziphandler:\n",
    "  ziphandler.extractall('./imgs')"
   ]
  }
 ],
 "metadata": {
  "kernelspec": {
   "display_name": "principal:Python",
   "language": "python",
   "name": "conda-env-principal-py"
  },
  "language_info": {
   "codemirror_mode": {
    "name": "ipython",
    "version": 3
   },
   "file_extension": ".py",
   "mimetype": "text/x-python",
   "name": "python",
   "nbconvert_exporter": "python",
   "pygments_lexer": "ipython3",
   "version": "3.9.9"
  }
 },
 "nbformat": 4,
 "nbformat_minor": 5
}
